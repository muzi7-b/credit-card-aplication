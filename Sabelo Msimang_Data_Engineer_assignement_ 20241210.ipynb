{
	"metadata": {
		"kernelspec": {
			"name": "glue_pyspark",
			"display_name": "Glue PySpark",
			"language": "python"
		},
		"language_info": {
			"name": "Python_Glue_Session",
			"mimetype": "text/x-python",
			"codemirror_mode": {
				"name": "python",
				"version": 3
			},
			"pygments_lexer": "python3",
			"file_extension": ".py"
		}
	},
	"nbformat_minor": 4,
	"nbformat": 4,
	"cells": [
		{
			"cell_type": "markdown",
			"source": "# AWS Glue Studio Notebook\n## Data Engineer Assesment: Identify potential Customers for new credit card\n",
			"metadata": {
				"editable": true,
				"trusted": true
			}
		},
		{
			"cell_type": "markdown",
			"source": "#### Optional: Run this cell to see available notebook commands (\"magics\").\n",
			"metadata": {
				"editable": true,
				"trusted": true
			}
		},
		{
			"cell_type": "markdown",
			"source": "####  Run this cell to set up and start your interactive session.\n",
			"metadata": {
				"editable": true,
				"trusted": true
			}
		},
		{
			"cell_type": "code",
			"source": "%idle_timeout 5880\n%glue_version 5.0\n%worker_type G.1X\n%number_of_workers 5\n%additional_python_modules scikit-learn\n\nimport sys\nfrom awsglue.transforms import *\nfrom awsglue.utils import getResolvedOptions\nfrom pyspark.context import SparkContext\nfrom awsglue.context import GlueContext\nfrom awsglue.job import Job\n  \nsc = SparkContext.getOrCreate()\nglueContext = GlueContext(sc)\nspark = glueContext.spark_session\njob = Job(glueContext)\n\nimport numpy as np\nimport pandas as pd\nimport matplotlib.pyplot as plt\nimport seaborn as sns\nimport datetime\nimport calendar\nimport matplotlib.pyplot as plt\n\nimport warnings\nwarnings.filterwarnings('ignore')",
			"metadata": {
				"trusted": true,
				"editable": true
			},
			"execution_count": 1,
			"outputs": [
				{
					"name": "stdout",
					"text": "Welcome to the Glue Interactive Sessions Kernel\nFor more information on available magic commands, please type %help in any new cell.\n\nPlease view our Getting Started page to access the most up-to-date information on the Interactive Sessions kernel: https://docs.aws.amazon.com/glue/latest/dg/interactive-sessions.html\nInstalled kernel version: 1.0.7 \nCurrent idle_timeout is None minutes.\nidle_timeout has been set to 5880 minutes.\nSetting Glue version to: 5.0\nPrevious worker type: None\nSetting new worker type to: G.1X\nPrevious number of workers: None\nSetting new number of workers to: 5\nAdditional python modules to be included:\nscikit-learn\nTrying to create a Glue session for the kernel.\nSession Type: glueetl\nWorker Type: G.1X\nNumber of Workers: 5\nIdle Timeout: 5880\nSession ID: 292aea95-0f24-4218-8839-10dcad14b181\nApplying the following default arguments:\n--glue_kernel_version 1.0.7\n--enable-glue-datacatalog true\n--additional-python-modules scikit-learn\nWaiting for session 292aea95-0f24-4218-8839-10dcad14b181 to get into ready status...\nSession 292aea95-0f24-4218-8839-10dcad14b181 has been created.\n\n",
					"output_type": "stream"
				}
			]
		},
		{
			"cell_type": "markdown",
			"source": "#### Create a DynamicFrame from a table:test_data in the AWS Glue Data Catalog and display its schema\n",
			"metadata": {
				"editable": true,
				"trusted": true
			}
		},
		{
			"cell_type": "code",
			"source": "dyf = glueContext.create_dynamic_frame.from_catalog(database='assessmnt_f_n_b', table_name='train_data')\ndyf.printSchema()",
			"metadata": {
				"trusted": true,
				"editable": true
			},
			"execution_count": 2,
			"outputs": [
				{
					"name": "stdout",
					"text": "root\n|-- customerid: long\n|-- sex: string\n|-- ownsvehicle: string\n|-- ownsproperty: string\n|-- numchildren: long\n|-- annualincome: double\n|-- jobstatus: string\n|-- educationlevel: string\n|-- relationshipstatus: string\n|-- livingarrangement: string\n|-- customerage: long\n|-- jobduration: long\n|-- mobilephone: long\n|-- workphone: long\n|-- homephone: long\n|-- email: long\n|-- occupation: string\n|-- householdsize: double\n|-- accountduration: double\n|-- creditrisk: long\n",
					"output_type": "stream"
				}
			]
		},
		{
			"cell_type": "code",
			"source": "pd.set_option('display.max_columns', None)\npd.set_option('display.max_rows', None) ",
			"metadata": {
				"trusted": true,
				"tags": []
			},
			"execution_count": 4,
			"outputs": [
				{
					"name": "stdout",
					"text": "\n",
					"output_type": "stream"
				}
			]
		},
		{
			"cell_type": "markdown",
			"source": "#### Convert the DynamicFrame to a Spark DataFrame and display a sample of the data\n",
			"metadata": {
				"editable": true,
				"trusted": true
			}
		},
		{
			"cell_type": "code",
			"source": "df = dyf.toDF()\ndf.show()",
			"metadata": {
				"trusted": true,
				"editable": true
			},
			"execution_count": 5,
			"outputs": [
				{
					"name": "stdout",
					"text": "+----------+---+-----------+------------+-----------+------------+--------------------+--------------------+--------------------+-------------------+-----------+-----------+-----------+---------+---------+-----+--------------------+-------------+---------------+----------+\n|customerid|sex|ownsvehicle|ownsproperty|numchildren|annualincome|           jobstatus|      educationlevel|  relationshipstatus|  livingarrangement|customerage|jobduration|mobilephone|workphone|homephone|email|          occupation|householdsize|accountduration|creditrisk|\n+----------+---+-----------+------------+-----------+------------+--------------------+--------------------+--------------------+-------------------+-----------+-----------+-----------+---------+---------+-----+--------------------+-------------+---------------+----------+\n|   5037048|  M|          Y|           Y|          0|    135000.0|             Working|Secondary / secon...|             Married|       With parents|     -16271|      -3111|          1|        0|        0|    0|          Core staff|          2.0|          -17.0|         0|\n|   5044630|  F|          Y|           N|          1|    135000.0|Commercial associate|    Higher education|Single / not married|  House / apartment|     -10130|      -1651|          1|        0|        0|    0|         Accountants|          2.0|           -1.0|         0|\n|   5079079|  F|          N|           Y|          2|    180000.0|Commercial associate|Secondary / secon...|             Married|  House / apartment|     -12821|      -5657|          1|        0|        0|    0|            Laborers|          4.0|          -38.0|         0|\n|   5112872|  F|          Y|           Y|          0|    360000.0|Commercial associate|    Higher education|Single / not married|  House / apartment|     -20929|      -2046|          1|        0|        0|    1|            Managers|          1.0|          -11.0|         0|\n|   5105858|  F|          N|           N|          0|    270000.0|             Working|Secondary / secon...|           Separated|  House / apartment|     -16207|       -515|          1|        0|        1|    0|                    |          1.0|          -41.0|         0|\n|   5100411|  F|          Y|           Y|          0|    135000.0|             Working|Secondary / secon...|             Married|  House / apartment|     -13251|      -3839|          1|        1|        0|    0|         Accountants|          2.0|           -1.0|         0|\n|   5022817|  M|          Y|           Y|          0|    202500.0|             Working|Secondary / secon...|             Married|  House / apartment|     -17262|      -1617|          1|        0|        0|    0|          Core staff|          2.0|          -16.0|         0|\n|   5009811|  F|          N|           N|          1|    202500.0|             Working|Secondary / secon...|             Married|  House / apartment|     -11813|      -3266|          1|        1|        1|    0|         Sales staff|          3.0|          -21.0|         0|\n|   5113922|  F|          N|           N|          0|     90000.0|           Pensioner|Secondary / secon...|Single / not married|Municipal apartment|     -23478|     365243|          1|        0|        0|    0|                    |          1.0|          -50.0|         0|\n|   5021541|  F|          Y|           N|          1|    306000.0|             Working|    Higher education|             Married|  House / apartment|      -9310|      -1678|          1|        0|        0|    0|                    |          3.0|          -13.0|         0|\n|   5061509|  F|          N|           Y|          0|    202500.0|           Pensioner|Secondary / secon...|             Married|  House / apartment|     -21464|     365243|          1|        0|        0|    0|                    |          2.0|          -15.0|         0|\n|   5028439|  M|          Y|           Y|          0|    315000.0|             Working|    Higher education|             Married|  House / apartment|     -15586|      -3337|          1|        0|        0|    0|            Managers|          2.0|           -6.0|         0|\n|   5096280|  F|          N|           N|          0|    360000.0|Commercial associate|    Higher education|           Separated|  House / apartment|     -18168|      -3931|          1|        1|        1|    0|                    |          1.0|          -13.0|         0|\n|   5024159|  F|          N|           Y|          1|    202500.0|             Working|Secondary / secon...|             Married|  House / apartment|      -9685|      -1098|          1|        0|        0|    0|         Sales staff|          3.0|           -6.0|         0|\n|   5091895|  M|          N|           N|          0|    157500.0|Commercial associate|    Higher education|Single / not married|  House / apartment|     -10192|      -1600|          1|        0|        0|    0|         Sales staff|          1.0|          -16.0|         0|\n|   5009969|  F|          Y|           Y|          0|    180000.0|       State servant|Secondary / secon...|             Married|  House / apartment|     -20644|      -3873|          1|        0|        0|    0|      Medicine staff|          2.0|          -41.0|         0|\n|   5046544|  F|          N|           Y|          1|    148500.0|             Working|Secondary / secon...|             Married|  House / apartment|     -15083|       -847|          1|        0|        0|    0|High skill tech s...|          3.0|          -55.0|         0|\n|   5105991|  M|          N|           N|          0|     90000.0|             Working|Secondary / secon...|             Married|Municipal apartment|     -13334|      -2829|          1|        1|        1|    0|            Laborers|          2.0|          -15.0|         0|\n|   5091715|  F|          Y|           Y|          1|    157500.0|             Working|    Higher education|             Married|  House / apartment|      -9766|      -2696|          1|        1|        0|    0|         Sales staff|          3.0|          -23.0|         0|\n|   5053194|  F|          N|           Y|          0|    315000.0|             Working|    Higher education|             Married|  House / apartment|     -15527|      -3792|          1|        1|        1|    0|         Accountants|          2.0|          -44.0|         0|\n+----------+---+-----------+------------+-----------+------------+--------------------+--------------------+--------------------+-------------------+-----------+-----------+-----------+---------+---------+-----+--------------------+-------------+---------------+----------+\nonly showing top 20 rows\n",
					"output_type": "stream"
				}
			]
		},
		{
			"cell_type": "markdown",
			"source": "### Testing SQL query",
			"metadata": {
				"tags": []
			}
		},
		{
			"cell_type": "code",
			"source": "df = dyf.toDF()\ndf.registerTempTable('train_data')\n\nglueContext.sql(\"\"\"\nselect * from train_data limit 10\n\"\"\").show()\n\n",
			"metadata": {
				"trusted": true,
				"tags": []
			},
			"execution_count": 6,
			"outputs": [
				{
					"name": "stdout",
					"text": "+----------+---+-----------+------------+-----------+------------+--------------------+--------------------+--------------------+-------------------+-----------+-----------+-----------+---------+---------+-----+-----------+-------------+---------------+----------+\n|customerid|sex|ownsvehicle|ownsproperty|numchildren|annualincome|           jobstatus|      educationlevel|  relationshipstatus|  livingarrangement|customerage|jobduration|mobilephone|workphone|homephone|email| occupation|householdsize|accountduration|creditrisk|\n+----------+---+-----------+------------+-----------+------------+--------------------+--------------------+--------------------+-------------------+-----------+-----------+-----------+---------+---------+-----+-----------+-------------+---------------+----------+\n|   5037048|  M|          Y|           Y|          0|    135000.0|             Working|Secondary / secon...|             Married|       With parents|     -16271|      -3111|          1|        0|        0|    0| Core staff|          2.0|          -17.0|         0|\n|   5044630|  F|          Y|           N|          1|    135000.0|Commercial associate|    Higher education|Single / not married|  House / apartment|     -10130|      -1651|          1|        0|        0|    0|Accountants|          2.0|           -1.0|         0|\n|   5079079|  F|          N|           Y|          2|    180000.0|Commercial associate|Secondary / secon...|             Married|  House / apartment|     -12821|      -5657|          1|        0|        0|    0|   Laborers|          4.0|          -38.0|         0|\n|   5112872|  F|          Y|           Y|          0|    360000.0|Commercial associate|    Higher education|Single / not married|  House / apartment|     -20929|      -2046|          1|        0|        0|    1|   Managers|          1.0|          -11.0|         0|\n|   5105858|  F|          N|           N|          0|    270000.0|             Working|Secondary / secon...|           Separated|  House / apartment|     -16207|       -515|          1|        0|        1|    0|           |          1.0|          -41.0|         0|\n|   5100411|  F|          Y|           Y|          0|    135000.0|             Working|Secondary / secon...|             Married|  House / apartment|     -13251|      -3839|          1|        1|        0|    0|Accountants|          2.0|           -1.0|         0|\n|   5022817|  M|          Y|           Y|          0|    202500.0|             Working|Secondary / secon...|             Married|  House / apartment|     -17262|      -1617|          1|        0|        0|    0| Core staff|          2.0|          -16.0|         0|\n|   5009811|  F|          N|           N|          1|    202500.0|             Working|Secondary / secon...|             Married|  House / apartment|     -11813|      -3266|          1|        1|        1|    0|Sales staff|          3.0|          -21.0|         0|\n|   5113922|  F|          N|           N|          0|     90000.0|           Pensioner|Secondary / secon...|Single / not married|Municipal apartment|     -23478|     365243|          1|        0|        0|    0|           |          1.0|          -50.0|         0|\n|   5021541|  F|          Y|           N|          1|    306000.0|             Working|    Higher education|             Married|  House / apartment|      -9310|      -1678|          1|        0|        0|    0|           |          3.0|          -13.0|         0|\n+----------+---+-----------+------------+-----------+------------+--------------------+--------------------+--------------------+-------------------+-----------+-----------+-----------+---------+---------+-----+-----------+-------------+---------------+----------+\n",
					"output_type": "stream"
				}
			]
		},
		{
			"cell_type": "markdown",
			"source": "## Understanding our data/ EDA non-graphical",
			"metadata": {}
		},
		{
			"cell_type": "code",
			"source": "df2 = df.toPandas()\ndf2.info() \n",
			"metadata": {
				"trusted": true,
				"tags": []
			},
			"execution_count": 7,
			"outputs": [
				{
					"name": "stdout",
					"text": "<class 'pandas.core.frame.DataFrame'>\nRangeIndex: 29165 entries, 0 to 29164\nData columns (total 20 columns):\n #   Column              Non-Null Count  Dtype  \n---  ------              --------------  -----  \n 0   customerid          29165 non-null  int64  \n 1   sex                 29165 non-null  object \n 2   ownsvehicle         29165 non-null  object \n 3   ownsproperty        29165 non-null  object \n 4   numchildren         29165 non-null  int64  \n 5   annualincome        29165 non-null  float64\n 6   jobstatus           29165 non-null  object \n 7   educationlevel      29165 non-null  object \n 8   relationshipstatus  29165 non-null  object \n 9   livingarrangement   29165 non-null  object \n 10  customerage         29165 non-null  int64  \n 11  jobduration         29165 non-null  int64  \n 12  mobilephone         29165 non-null  int64  \n 13  workphone           29165 non-null  int64  \n 14  homephone           29165 non-null  int64  \n 15  email               29165 non-null  int64  \n 16  occupation          29165 non-null  object \n 17  householdsize       29165 non-null  float64\n 18  accountduration     29165 non-null  float64\n 19  creditrisk          29165 non-null  int64  \ndtypes: float64(3), int64(9), object(8)\nmemory usage: 4.5+ MB\n",
					"output_type": "stream"
				}
			]
		},
		{
			"cell_type": "code",
			"source": "df2.shape",
			"metadata": {
				"trusted": true,
				"tags": []
			},
			"execution_count": 8,
			"outputs": [
				{
					"name": "stdout",
					"text": "(29165, 20)\n",
					"output_type": "stream"
				}
			]
		},
		{
			"cell_type": "code",
			"source": "describe = df2.describe(include='object')\nprint(describe)",
			"metadata": {
				"trusted": true,
				"tags": []
			},
			"execution_count": 13,
			"outputs": [
				{
					"name": "stdout",
					"text": "          sex ownsvehicle ownsproperty jobstatus  \\\ncount   29165       29165        29165     29165   \nunique      2           2            2         5   \ntop         F           N            Y   Working   \nfreq    19549       18128        19557     15056   \n\n                       educationlevel relationshipstatus  livingarrangement  \\\ncount                           29165              29165              29165   \nunique                              5                  5                  6   \ntop     Secondary / secondary special            Married  House / apartment   \nfreq                            19803              20044              26059   \n\n       occupation  \ncount       29165  \nunique         19  \ntop                \nfreq         9027\n",
					"output_type": "stream"
				}
			]
		},
		{
			"cell_type": "code",
			"source": "describe = df2.describe(include='all')\nprint(describe)",
			"metadata": {
				"trusted": true,
				"tags": []
			},
			"execution_count": 14,
			"outputs": [
				{
					"name": "stdout",
					"text": "          customerid    sex ownsvehicle ownsproperty   numchildren  \\\ncount   2.916500e+04  29165       29165        29165  29165.000000   \nunique           NaN      2           2            2           NaN   \ntop              NaN      F           N            Y           NaN   \nfreq             NaN  19549       18128        19557           NaN   \nmean    5.078232e+06    NaN         NaN          NaN      0.430790   \nstd     4.182400e+04    NaN         NaN          NaN      0.741882   \nmin     5.008804e+06    NaN         NaN          NaN      0.000000   \n25%     5.042047e+06    NaN         NaN          NaN      0.000000   \n50%     5.074666e+06    NaN         NaN          NaN      0.000000   \n75%     5.114629e+06    NaN         NaN          NaN      1.000000   \nmax     5.150485e+06    NaN         NaN          NaN     19.000000   \n\n        annualincome jobstatus                 educationlevel  \\\ncount   2.916500e+04     29165                          29165   \nunique           NaN         5                              5   \ntop              NaN   Working  Secondary / secondary special   \nfreq             NaN     15056                          19803   \nmean    1.868904e+05       NaN                            NaN   \nstd     1.014096e+05       NaN                            NaN   \nmin     2.700000e+04       NaN                            NaN   \n25%     1.215000e+05       NaN                            NaN   \n50%     1.575000e+05       NaN                            NaN   \n75%     2.250000e+05       NaN                            NaN   \nmax     1.575000e+06       NaN                            NaN   \n\n       relationshipstatus  livingarrangement   customerage    jobduration  \\\ncount               29165              29165  29165.000000   29165.000000   \nunique                  5                  6           NaN            NaN   \ntop               Married  House / apartment           NaN            NaN   \nfreq                20044              26059           NaN            NaN   \nmean                  NaN                NaN -15979.477490   59257.761255   \nstd                   NaN                NaN   4202.997485  137655.883458   \nmin                   NaN                NaN -25152.000000  -15713.000000   \n25%                   NaN                NaN -19444.000000   -3153.000000   \n50%                   NaN                NaN -15565.000000   -1557.000000   \n75%                   NaN                NaN -12475.000000    -412.000000   \nmax                   NaN                NaN  -7705.000000  365243.000000   \n\n        mobilephone     workphone     homephone         email occupation  \\\ncount       29165.0  29165.000000  29165.000000  29165.000000      29165   \nunique          NaN           NaN           NaN           NaN         19   \ntop             NaN           NaN           NaN           NaN              \nfreq            NaN           NaN           NaN           NaN       9027   \nmean            1.0      0.224310      0.294977      0.090279        NaN   \nstd             0.0      0.417134      0.456040      0.286587        NaN   \nmin             1.0      0.000000      0.000000      0.000000        NaN   \n25%             1.0      0.000000      0.000000      0.000000        NaN   \n50%             1.0      0.000000      0.000000      0.000000        NaN   \n75%             1.0      0.000000      1.000000      0.000000        NaN   \nmax             1.0      1.000000      1.000000      1.000000        NaN   \n\n        householdsize  accountduration    creditrisk  \ncount    29165.000000     29165.000000  29165.000000  \nunique            NaN              NaN           NaN  \ntop               NaN              NaN           NaN  \nfreq              NaN              NaN           NaN  \nmean         2.197531       -26.137734      0.017110  \nstd          0.912189        16.486702      0.129682  \nmin          1.000000       -60.000000      0.000000  \n25%          2.000000       -39.000000      0.000000  \n50%          2.000000       -24.000000      0.000000  \n75%          3.000000       -12.000000      0.000000  \nmax         20.000000         0.000000      1.000000\n",
					"output_type": "stream"
				}
			]
		},
		{
			"cell_type": "code",
			"source": "df2.describe()\n",
			"metadata": {
				"trusted": true,
				"tags": []
			},
			"execution_count": 11,
			"outputs": [
				{
					"name": "stdout",
					"text": "         customerid   numchildren  ...  accountduration    creditrisk\ncount  2.916500e+04  29165.000000  ...     29165.000000  29165.000000\nmean   5.078232e+06      0.430790  ...       -26.137734      0.017110\nstd    4.182400e+04      0.741882  ...        16.486702      0.129682\nmin    5.008804e+06      0.000000  ...       -60.000000      0.000000\n25%    5.042047e+06      0.000000  ...       -39.000000      0.000000\n50%    5.074666e+06      0.000000  ...       -24.000000      0.000000\n75%    5.114629e+06      1.000000  ...       -12.000000      0.000000\nmax    5.150485e+06     19.000000  ...         0.000000      1.000000\n\n[8 rows x 12 columns]\n",
					"output_type": "stream"
				}
			]
		},
		{
			"cell_type": "code",
			"source": "#checking the null values\ntotal = df2.isnull().sum().sort_values(ascending=False)\npercent = (df2.isnull().sum()/df2.isnull().count()).sort_values(ascending=False)\nmissing_data = pd.concat([total, percent], axis=1, keys=['Total', 'Percent'])\nmissing_data.head(20)",
			"metadata": {
				"trusted": true,
				"tags": []
			},
			"execution_count": 15,
			"outputs": [
				{
					"name": "stdout",
					"text": "                    Total  Percent\ncustomerid              0      0.0\nsex                     0      0.0\nownsvehicle             0      0.0\nownsproperty            0      0.0\nnumchildren             0      0.0\nannualincome            0      0.0\njobstatus               0      0.0\neducationlevel          0      0.0\nrelationshipstatus      0      0.0\nlivingarrangement       0      0.0\ncustomerage             0      0.0\njobduration             0      0.0\nmobilephone             0      0.0\nworkphone               0      0.0\nhomephone               0      0.0\nemail                   0      0.0\noccupation              0      0.0\nhouseholdsize           0      0.0\naccountduration         0      0.0\ncreditrisk              0      0.0\n",
					"output_type": "stream"
				}
			]
		},
		{
			"cell_type": "code",
			"source": "%%sql\nselect * from assessmnt_f_n_b.train_data where occupation = '' limit 10;",
			"metadata": {
				"trusted": true,
				"tags": []
			},
			"execution_count": 9,
			"outputs": [
				{
					"name": "stdout",
					"text": "+----------+---+-----------+------------+-----------+------------+--------------------+--------------------+--------------------+-------------------+-----------+-----------+-----------+---------+---------+-----+----------+-------------+---------------+----------+\n|customerid|sex|ownsvehicle|ownsproperty|numchildren|annualincome|           jobstatus|      educationlevel|  relationshipstatus|  livingarrangement|customerage|jobduration|mobilephone|workphone|homephone|email|occupation|householdsize|accountduration|creditrisk|\n+----------+---+-----------+------------+-----------+------------+--------------------+--------------------+--------------------+-------------------+-----------+-----------+-----------+---------+---------+-----+----------+-------------+---------------+----------+\n|   5105858|  F|          N|           N|          0|    270000.0|             Working|Secondary / secon...|           Separated|  House / apartment|     -16207|       -515|          1|        0|        1|    0|          |          1.0|          -41.0|         0|\n|   5113922|  F|          N|           N|          0|     90000.0|           Pensioner|Secondary / secon...|Single / not married|Municipal apartment|     -23478|     365243|          1|        0|        0|    0|          |          1.0|          -50.0|         0|\n|   5021541|  F|          Y|           N|          1|    306000.0|             Working|    Higher education|             Married|  House / apartment|      -9310|      -1678|          1|        0|        0|    0|          |          3.0|          -13.0|         0|\n|   5061509|  F|          N|           Y|          0|    202500.0|           Pensioner|Secondary / secon...|             Married|  House / apartment|     -21464|     365243|          1|        0|        0|    0|          |          2.0|          -15.0|         0|\n|   5096280|  F|          N|           N|          0|    360000.0|Commercial associate|    Higher education|           Separated|  House / apartment|     -18168|      -3931|          1|        1|        1|    0|          |          1.0|          -13.0|         0|\n|   5067899|  F|          N|           Y|          0|    270000.0|           Pensioner|Secondary / secon...|             Married|  House / apartment|     -21511|     365243|          1|        0|        1|    0|          |          2.0|          -45.0|         0|\n|   5148911|  M|          Y|           N|          2|    225000.0|Commercial associate|Secondary / secon...|             Married|  House / apartment|     -14636|      -3850|          1|        0|        0|    0|          |          4.0|          -33.0|         0|\n|   5148624|  F|          N|           Y|          0|     99000.0|           Pensioner|Secondary / secon...|Single / not married|  House / apartment|     -22829|     365243|          1|        0|        0|    0|          |          1.0|          -22.0|         0|\n|   5010039|  F|          N|           Y|          0|    292500.0|           Pensioner|Secondary / secon...|      Civil marriage|  House / apartment|     -21582|     365243|          1|        0|        0|    0|          |          2.0|          -16.0|         0|\n|   5029401|  F|          N|           N|          0|    112500.0|           Pensioner|Secondary / secon...|             Married|  House / apartment|     -19125|     365243|          1|        0|        0|    0|          |          2.0|          -52.0|         0|\n+----------+---+-----------+------------+-----------+------------+--------------------+--------------------+--------------------+-------------------+-----------+-----------+-----------+---------+---------+-----+----------+-------------+---------------+----------+\n",
					"output_type": "stream"
				}
			]
		},
		{
			"cell_type": "markdown",
			"source": "### Handling empty values in occupation column, I replaced emty values with string 'Unknown'",
			"metadata": {}
		},
		{
			"cell_type": "code",
			"source": "df3 = df2.copy()\n\ndf3.loc[df3['occupation'].str.len() == 0, 'occupation'] = 'Unknown'",
			"metadata": {
				"trusted": true,
				"tags": []
			},
			"execution_count": 10,
			"outputs": [
				{
					"name": "stdout",
					"text": "\n",
					"output_type": "stream"
				}
			]
		},
		{
			"cell_type": "code",
			"source": "#checkthere is stll empty values\nempty_count = df2['occupation'].isin(['', None]).sum()\nprint(f\"Number of empty or NaN values: {empty_count}\")",
			"metadata": {
				"trusted": true,
				"tags": []
			},
			"execution_count": 11,
			"outputs": [
				{
					"name": "stdout",
					"text": "Number of empty or NaN values: 9027\n",
					"output_type": "stream"
				}
			]
		},
		{
			"cell_type": "code",
			"source": "#checkthere is stll empty values\nempty_count = df3['occupation'].isin(['', None]).sum()\nprint(f\"Number of empty or NaN values: {empty_count}\")",
			"metadata": {
				"trusted": true,
				"tags": []
			},
			"execution_count": 12,
			"outputs": [
				{
					"name": "stdout",
					"text": "Number of empty or NaN values: 0\n",
					"output_type": "stream"
				}
			]
		},
		{
			"cell_type": "code",
			"source": "print(df3['occupation'].unique())",
			"metadata": {
				"trusted": true,
				"tags": []
			},
			"execution_count": 13,
			"outputs": [
				{
					"name": "stdout",
					"text": "['Core staff' 'Accountants' 'Laborers' 'Managers' 'Unknown' 'Sales staff'\n 'Medicine staff' 'High skill tech staff' 'HR staff' 'Low-skill Laborers'\n 'Drivers' 'Secretaries' 'Cleaning staff' 'Cooking staff' 'Security staff'\n 'Private service staff' 'IT staff' 'Waiters/barmen staff' 'Realty agents']\n",
					"output_type": "stream"
				}
			]
		},
		{
			"cell_type": "markdown",
			"source": "## removing columns I do not need",
			"metadata": {}
		},
		{
			"cell_type": "code",
			"source": "df3=df3.drop(['customerid','customerage','jobduration','accountduration'], axis=1)",
			"metadata": {
				"trusted": true,
				"tags": []
			},
			"execution_count": 14,
			"outputs": [
				{
					"name": "stdout",
					"text": "\n",
					"output_type": "stream"
				}
			]
		},
		{
			"cell_type": "code",
			"source": "print(df3.sample(10))",
			"metadata": {
				"trusted": true,
				"tags": []
			},
			"execution_count": 13,
			"outputs": [
				{
					"name": "stdout",
					"text": "      sex ownsvehicle ownsproperty  numchildren  annualincome  \\\n28500   M           Y            Y            0      202500.0   \n14322   F           N            N            1      159750.0   \n20815   M           Y            N            0      225000.0   \n1823    F           N            Y            0      225000.0   \n19188   F           N            Y            0       72000.0   \n17660   F           N            N            0      292500.0   \n23860   F           N            Y            0       90000.0   \n26946   M           N            N            0      180000.0   \n21980   M           Y            N            1      135000.0   \n10658   M           Y            Y            2      315000.0   \n\n                  jobstatus                 educationlevel relationshipstatus  \\\n28500  Commercial associate  Secondary / secondary special            Married   \n14322  Commercial associate               Higher education     Civil marriage   \n20815  Commercial associate  Secondary / secondary special            Married   \n1823          State servant  Secondary / secondary special            Married   \n19188             Pensioner  Secondary / secondary special            Married   \n17660         State servant  Secondary / secondary special            Married   \n23860             Pensioner  Secondary / secondary special            Married   \n26946               Working                Lower secondary            Married   \n21980               Working  Secondary / secondary special            Married   \n10658               Working               Higher education            Married   \n\n         livingarrangement  mobilephone  workphone  homephone  email  \\\n28500    House / apartment            1          0          1      0   \n14322    House / apartment            1          1          1      0   \n20815  Municipal apartment            1          1          0      0   \n1823     House / apartment            1          0          1      0   \n19188    House / apartment            1          0          0      0   \n17660    House / apartment            1          0          1      0   \n23860    House / apartment            1          0          0      0   \n26946     Office apartment            1          1          0      0   \n21980    House / apartment            1          0          0      0   \n10658    House / apartment            1          1          1      0   \n\n        occupation  householdsize  creditrisk  \n28500      Unknown            2.0           0  \n14322   Core staff            3.0           0  \n20815      Unknown            2.0           0  \n1823       Unknown            2.0           0  \n19188      Unknown            2.0           0  \n17660  Secretaries            2.0           0  \n23860      Unknown            2.0           0  \n26946     Managers            2.0           0  \n21980     Laborers            3.0           0  \n10658      Unknown            4.0           0\n",
					"output_type": "stream"
				}
			]
		},
		{
			"cell_type": "code",
			"source": "df3.shape",
			"metadata": {
				"trusted": true,
				"tags": []
			},
			"execution_count": 15,
			"outputs": [
				{
					"name": "stdout",
					"text": "(29165, 16)\n",
					"output_type": "stream"
				}
			]
		},
		{
			"cell_type": "markdown",
			"source": "## encoding",
			"metadata": {
				"tags": []
			}
		},
		{
			"cell_type": "code",
			"source": "from sklearn.preprocessing import LabelEncoder\nfrom sklearn import preprocessing\nle = preprocessing.LabelEncoder()\ndf3.sex = le.fit_transform(df3.sex)\ndf3.ownsvehicle = le.fit_transform(df3.ownsvehicle)\ndf3.ownsproperty = le.fit_transform(df3.ownsproperty)\ndf3.jobstatus = le.fit_transform(df3.jobstatus)\ndf3.educationlevel = le.fit_transform(df3.educationlevel)\ndf3.relationshipstatus= le.fit_transform(df3.relationshipstatus)\ndf3.livingarrangement= le.fit_transform(df3.livingarrangement)\ndf3.mobilephone = le.fit_transform(df3.mobilephone)\ndf3.workphone= le.fit_transform(df3.workphone)\ndf3.homephone= le.fit_transform(df3.homephone)\ndf3.email= le.fit_transform(df3.email)\ndf3.occupation= le.fit_transform(df3.occupation)",
			"metadata": {
				"trusted": true,
				"tags": []
			},
			"execution_count": 16,
			"outputs": [
				{
					"name": "stdout",
					"text": "\n",
					"output_type": "stream"
				}
			]
		},
		{
			"cell_type": "markdown",
			"source": "###  imbalanced datasets pose a significant challenge because standard classification algorithms tend to be biased towards the majority class\n#### \"creditrisk\" column is my target variable, I have to check its value distribution",
			"metadata": {}
		},
		{
			"cell_type": "code",
			"source": "#Checking the number of fraud in percentage\n#  I willn name those who are not credit risk \"safe\" and those who are credit risk \"fradulent\"\ncount_1 = df3[df3[\"creditrisk\"] == 1].value_counts().sum()\ntotalResponse = df3[\"creditrisk\"].value_counts().sum()\nprint(\"The percentage of customers who are creditrisk  classification in train data is :\", round(count_1*100/totalResponse),\"%\")",
			"metadata": {
				"trusted": true,
				"tags": []
			},
			"execution_count": 17,
			"outputs": [
				{
					"name": "stdout",
					"text": "The percentage of customers who are creditrisk  classification in train data is : 2 %\n",
					"output_type": "stream"
				}
			]
		},
		{
			"cell_type": "code",
			"source": "count_1 = df3[df3[\"creditrisk\"] == 0].value_counts().sum()\ntotalResponse = df3[\"creditrisk\"].value_counts().sum()\nprint(\"The percentage of customers who are not creditrisk  classification in train data is :\", round(count_1*100/totalResponse),\"%\")",
			"metadata": {
				"trusted": true,
				"tags": []
			},
			"execution_count": 18,
			"outputs": [
				{
					"name": "stdout",
					"text": "The percentage of customers who are not creditrisk  classification in train data is : 98 %\n",
					"output_type": "stream"
				}
			]
		},
		{
			"cell_type": "markdown",
			"source": "## Embalancing",
			"metadata": {}
		},
		{
			"cell_type": "code",
			"source": "from sklearn.utils import resample",
			"metadata": {
				"trusted": true,
				"tags": []
			},
			"execution_count": 19,
			"outputs": [
				{
					"name": "stdout",
					"text": "\n",
					"output_type": "stream"
				}
			]
		},
		{
			"cell_type": "code",
			"source": "#from sklearn.utils import resample\nsafe = df3[df3['creditrisk']== 0]\nfradulent = df3[df3['creditrisk']== 1]\nsaf = resample(safe,\n                          replace=True, \n                          n_samples=100000, # match number in minority class\n                          random_state=27) # reproducible results\n\n\nfraud = resample(fradulent,\n                          replace=True, # sample without replacement (no need to duplicate observations)\n                          n_samples=100000, # match number in minority class\n                          random_state=27) # reproducible results\n\n# Combine downsampled majority class with minority class\ndf3 = pd.concat([saf,fraud])",
			"metadata": {
				"trusted": true,
				"tags": []
			},
			"execution_count": 20,
			"outputs": [
				{
					"name": "stdout",
					"text": "\n",
					"output_type": "stream"
				}
			]
		},
		{
			"cell_type": "code",
			"source": "# tells how much a data distribution deviates from a perfectly symmetrical bell curve (normal distribution).\ndf3.skew()\n",
			"metadata": {
				"trusted": true,
				"tags": []
			},
			"execution_count": 21,
			"outputs": [
				{
					"name": "stdout",
					"text": "sex                   0.600191\nownsvehicle           0.528989\nownsproperty         -0.517702\nnumchildren           2.075812\nannualincome          2.154850\njobstatus            -0.266312\neducationlevel       -0.838375\nrelationshipstatus    1.149909\nlivingarrangement     3.297323\nmobilephone           0.000000\nworkphone             1.275419\nhomephone             0.896543\nemail                 2.960718\noccupation           -0.177882\nhouseholdsize         1.078569\ncreditrisk            0.000000\ndtype: float64\n",
					"output_type": "stream"
				}
			]
		},
		{
			"cell_type": "code",
			"source": "# kurtosis measures how much a distribution's tails deviate from the tails of a normal distribution. Checks in all columns\ndf3.kurtosis()",
			"metadata": {
				"trusted": true,
				"tags": []
			},
			"execution_count": 22,
			"outputs": [
				{
					"name": "stdout",
					"text": "sex                   -1.639787\nownsvehicle           -1.720187\nownsproperty          -1.732002\nnumchildren           10.701421\nannualincome          10.025005\njobstatus             -1.727383\neducationlevel        -1.228742\nrelationshipstatus     0.364238\nlivingarrangement      9.680967\nmobilephone            0.000000\nworkphone             -0.373311\nhomephone             -1.196223\nemail                  6.765918\noccupation            -1.373279\nhouseholdsize          3.836886\ncreditrisk            -2.000020\ndtype: float64\n",
					"output_type": "stream"
				}
			]
		},
		{
			"cell_type": "markdown",
			"source": "### Train test",
			"metadata": {
				"tags": []
			}
		},
		{
			"cell_type": "code",
			"source": "# Packages for training models\nfrom sklearn.pipeline import Pipeline\nfrom sklearn.linear_model import LogisticRegression, SGDClassifier\nfrom sklearn.naive_bayes import MultinomialNB, ComplementNB\nfrom sklearn.svm import LinearSVC, SVC\nfrom sklearn.model_selection import train_test_split\nfrom sklearn.model_selection import GridSearchCV, KFold, cross_val_score\nfrom sklearn.model_selection import RepeatedStratifiedKFold\nfrom sklearn.neighbors import KNeighborsClassifier\nfrom sklearn.tree import DecisionTreeClassifier\nfrom sklearn.ensemble import GradientBoostingClassifier\nfrom sklearn.ensemble import RandomForestClassifier\nfrom sklearn.neural_network import MLPClassifier\nfrom sklearn import metrics\n#import xgboost as xgb\n\n# Model Evaluation Packages\nfrom sklearn.metrics import accuracy_score, precision_score, recall_score\nfrom sklearn.metrics import confusion_matrix, classification_report, f1_score\nfrom sklearn.metrics import make_scorer",
			"metadata": {
				"trusted": true,
				"tags": []
			},
			"execution_count": 23,
			"outputs": [
				{
					"name": "stdout",
					"text": "\n",
					"output_type": "stream"
				}
			]
		},
		{
			"cell_type": "code",
			"source": "y = df3['creditrisk']\nX = df3.drop('creditrisk', axis=1)",
			"metadata": {
				"trusted": true,
				"tags": []
			},
			"execution_count": 24,
			"outputs": [
				{
					"name": "stdout",
					"text": "\n",
					"output_type": "stream"
				}
			]
		},
		{
			"cell_type": "markdown",
			"source": "## scalling",
			"metadata": {}
		},
		{
			"cell_type": "code",
			"source": "# scalling the Data\nfrom sklearn.model_selection import train_test_split\nfrom sklearn.preprocessing import StandardScaler\nscaler = StandardScaler()\nscaler.fit(X)\nX = pd.DataFrame(scaler.transform(X), index=X.index, columns=X.columns)\n        ",
			"metadata": {
				"trusted": true,
				"tags": []
			},
			"execution_count": 25,
			"outputs": [
				{
					"name": "stdout",
					"text": "\n",
					"output_type": "stream"
				}
			]
		},
		{
			"cell_type": "code",
			"source": "X_train, X_test, y_train, y_test = train_test_split(X, y, test_size=0.20, random_state=42)\n",
			"metadata": {
				"trusted": true,
				"editable": true
			},
			"execution_count": 26,
			"outputs": [
				{
					"name": "stdout",
					"text": "\n",
					"output_type": "stream"
				}
			]
		},
		{
			"cell_type": "code",
			"source": "#values after downsample and upsample\ny_train.value_counts(normalize=True)*100",
			"metadata": {
				"trusted": true,
				"editable": true
			},
			"execution_count": 27,
			"outputs": [
				{
					"name": "stdout",
					"text": "creditrisk\n0    50.004375\n1    49.995625\nName: proportion, dtype: float64\n",
					"output_type": "stream"
				}
			]
		},
		{
			"cell_type": "markdown",
			"source": "## Decision tres",
			"metadata": {}
		},
		{
			"cell_type": "code",
			"source": "rf= RandomForestClassifier(random_state=1)\nrf.fit(X_train, y_train)\npred1 = rf.predict(X_test)\n\nlr = LogisticRegression()\nlr.fit(X_train, y_train)\npred2 = lr.predict(X_test)\n\nkn=KNeighborsClassifier(n_neighbors=5)\nkn.fit(X_train, y_train)\npred3 = kn.predict(X_test)\n\ndt=DecisionTreeClassifier()\ndt.fit(X_train, y_train)\npred4 = dt.predict(X_test)",
			"metadata": {
				"trusted": true,
				"tags": []
			},
			"execution_count": 28,
			"outputs": [
				{
					"name": "stdout",
					"text": "\n",
					"output_type": "stream"
				}
			]
		},
		{
			"cell_type": "markdown",
			"source": "## Random Forest",
			"metadata": {}
		},
		{
			"cell_type": "code",
			"source": "predictions = rf.predict(X_test)\npredictions",
			"metadata": {
				"trusted": true,
				"tags": []
			},
			"execution_count": 29,
			"outputs": [
				{
					"name": "stdout",
					"text": "array([1, 0, 1, ..., 1, 1, 0])\n",
					"output_type": "stream"
				}
			]
		},
		{
			"cell_type": "code",
			"source": "print(classification_report(y_test, pred1))",
			"metadata": {
				"trusted": true,
				"tags": []
			},
			"execution_count": 34,
			"outputs": [
				{
					"name": "stdout",
					"text": "              precision    recall  f1-score   support\n\n           0       1.00      0.95      0.97     19993\n           1       0.95      1.00      0.97     20007\n\n    accuracy                           0.97     40000\n   macro avg       0.98      0.97      0.97     40000\nweighted avg       0.98      0.97      0.97     40000\n",
					"output_type": "stream"
				}
			]
		},
		{
			"cell_type": "markdown",
			"source": "## Logistic Regression",
			"metadata": {}
		},
		{
			"cell_type": "code",
			"source": "predictions = lr.predict(X_test)\npredictions",
			"metadata": {
				"trusted": true,
				"tags": []
			},
			"execution_count": 30,
			"outputs": [
				{
					"name": "stdout",
					"text": "array([0, 0, 0, ..., 1, 1, 0])\n",
					"output_type": "stream"
				}
			]
		},
		{
			"cell_type": "code",
			"source": "print(classification_report(y_test, pred2))",
			"metadata": {
				"trusted": true,
				"tags": []
			},
			"execution_count": 31,
			"outputs": [
				{
					"name": "stdout",
					"text": "              precision    recall  f1-score   support\n\n           0       0.55      0.58      0.56     19993\n           1       0.55      0.52      0.53     20007\n\n    accuracy                           0.55     40000\n   macro avg       0.55      0.55      0.55     40000\nweighted avg       0.55      0.55      0.55     40000\n",
					"output_type": "stream"
				}
			]
		},
		{
			"cell_type": "markdown",
			"source": "## KNeighbors Classifier",
			"metadata": {
				"tags": []
			}
		},
		{
			"cell_type": "code",
			"source": "predictions = kn.predict(X_test)\npredictions",
			"metadata": {
				"trusted": true,
				"tags": []
			},
			"execution_count": 32,
			"outputs": [
				{
					"name": "stdout",
					"text": "array([1, 0, 1, ..., 1, 1, 0])\n",
					"output_type": "stream"
				}
			]
		},
		{
			"cell_type": "markdown",
			"source": "## DecisionTree Classifier",
			"metadata": {}
		},
		{
			"cell_type": "code",
			"source": "predictions = dt.predict(X_test)\npredictions",
			"metadata": {
				"trusted": true,
				"tags": []
			},
			"execution_count": 33,
			"outputs": [
				{
					"name": "stdout",
					"text": "array([1, 0, 1, ..., 1, 1, 0])\n",
					"output_type": "stream"
				}
			]
		},
		{
			"cell_type": "code",
			"source": "print(classification_report(y_test, pred4))",
			"metadata": {
				"trusted": true,
				"tags": []
			},
			"execution_count": 34,
			"outputs": [
				{
					"name": "stdout",
					"text": "              precision    recall  f1-score   support\n\n           0       1.00      0.95      0.97     19993\n           1       0.95      1.00      0.97     20007\n\n    accuracy                           0.97     40000\n   macro avg       0.98      0.97      0.97     40000\nweighted avg       0.98      0.97      0.97     40000\n",
					"output_type": "stream"
				}
			]
		},
		{
			"cell_type": "markdown",
			"source": "## K- fold validation",
			"metadata": {}
		},
		{
			"cell_type": "code",
			"source": "from sklearn.model_selection import KFold\nfrom sklearn.model_selection import cross_val_score\nkfold = KFold(5)",
			"metadata": {
				"trusted": true,
				"tags": []
			},
			"execution_count": 35,
			"outputs": [
				{
					"name": "stdout",
					"text": "\n",
					"output_type": "stream"
				}
			]
		},
		{
			"cell_type": "code",
			"source": "# RandomForest\n\nresults=cross_val_score(rf,X,y,cv=kfold)\nprint(results*100,'\\n')\n\nprint(np.mean(results)*100)",
			"metadata": {
				"trusted": true,
				"tags": []
			},
			"execution_count": 36,
			"outputs": [
				{
					"name": "stdout",
					"text": "[94.875  94.9575 97.48   98.965  99.23  ] \n\n97.1015\n",
					"output_type": "stream"
				}
			]
		},
		{
			"cell_type": "code",
			"source": "# Logistic Regression\n\nresults=cross_val_score(lr,X,y,cv=kfold)\nprint(results*100,'\\n')\n\nprint(np.mean(results)*100)",
			"metadata": {
				"trusted": true,
				"tags": []
			},
			"execution_count": 37,
			"outputs": [
				{
					"name": "stdout",
					"text": "[ 3.13    3.3325 54.535   9.7775  9.56  ] \n\n16.067000000000004\n",
					"output_type": "stream"
				}
			]
		},
		{
			"cell_type": "code",
			"source": "# Decision tree Regression\n\nresults=cross_val_score(dt,X,y,cv=kfold)\nprint(results*100,'\\n')\n\nprint(np.mean(results)*100)",
			"metadata": {
				"trusted": true,
				"tags": []
			},
			"execution_count": 38,
			"outputs": [
				{
					"name": "stdout",
					"text": "[94.7875 94.93   97.4725 98.965  99.23  ] \n\n97.07700000000001\n",
					"output_type": "stream"
				}
			]
		},
		{
			"cell_type": "code",
			"source": "import pickle\n\nmodel_save_path = \"tmodel94.pkl\"\nwith open(model_save_path,'wb') as file:\n    pickle.dump(rf,file)",
			"metadata": {
				"trusted": true,
				"tags": []
			},
			"execution_count": 39,
			"outputs": [
				{
					"name": "stdout",
					"text": "\n",
					"output_type": "stream"
				}
			]
		}
	]
}